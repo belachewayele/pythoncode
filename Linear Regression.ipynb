{
  "cells": [
    {
      "metadata": {
        "collapsed": true,
        "trusted": false
      },
      "cell_type": "code",
      "source": "import numpy as np\nimport pandas as pd\nimport scipy.stats as stats\nimport matplotlib.pyplot as plt\nimport sklearn\n\n%matplotlib inline",
      "execution_count": null,
      "outputs": []
    },
    {
      "metadata": {
        "collapsed": true,
        "trusted": false
      },
      "cell_type": "code",
      "source": "from sklearn.datasets import load_boston\nboston = load_boston()",
      "execution_count": null,
      "outputs": []
    },
    {
      "metadata": {},
      "cell_type": "markdown",
      "source": "## Available Datasets\nload_boston([return_X_y])\tLoad and return the boston house-prices dataset (regression). \n\nload_iris([return_X_y])\tLoad and return the iris dataset (classification). \n\nload_diabetes([return_X_y])\tLoad and return the diabetes dataset (regression). \n\nload_digits([n_class, return_X_y])\tLoad and return the digits dataset (classification). \n\nload_linnerud([return_X_y])\tLoad and return the linnerud dataset (multivariate regression). \n\nload_wine([return_X_y])\tLoad and return the wine dataset (classification). \n\nload_breast_cancer([return_X_y])\tLoad and return the breast cancer wisconsin dataset (classification)."
    },
    {
      "metadata": {
        "trusted": false
      },
      "cell_type": "code",
      "source": "#data = dataset, target = dependent variable, feature_names = column headers, DESCR = data dictionary\nboston.keys()",
      "execution_count": null,
      "outputs": []
    },
    {
      "metadata": {
        "trusted": false
      },
      "cell_type": "code",
      "source": "#506 rows, 13 columns\nboston.data.shape",
      "execution_count": null,
      "outputs": []
    },
    {
      "metadata": {
        "trusted": false
      },
      "cell_type": "code",
      "source": "print (boston.feature_names)",
      "execution_count": null,
      "outputs": []
    },
    {
      "metadata": {
        "trusted": false
      },
      "cell_type": "code",
      "source": "print (boston.DESCR)",
      "execution_count": null,
      "outputs": []
    },
    {
      "metadata": {
        "trusted": false
      },
      "cell_type": "code",
      "source": "bos = pd.DataFrame(boston.data)\nbos.head()",
      "execution_count": null,
      "outputs": []
    },
    {
      "metadata": {
        "trusted": false
      },
      "cell_type": "code",
      "source": "bos.columns = boston.feature_names\nbos.head()",
      "execution_count": null,
      "outputs": []
    },
    {
      "metadata": {
        "trusted": false
      },
      "cell_type": "code",
      "source": "#verifying the first 5 rows in the dependent variable datatset\nboston.target[:5]",
      "execution_count": null,
      "outputs": []
    },
    {
      "metadata": {
        "collapsed": true,
        "trusted": false
      },
      "cell_type": "code",
      "source": "#assigning dependent variable to column named \"Price\"\nbos['PRICE'] = boston.target",
      "execution_count": null,
      "outputs": []
    },
    {
      "metadata": {
        "trusted": false
      },
      "cell_type": "code",
      "source": "bos.head()",
      "execution_count": null,
      "outputs": []
    },
    {
      "metadata": {
        "trusted": false
      },
      "cell_type": "code",
      "source": "from sklearn.linear_model import LinearRegression\nX = bos.drop('PRICE', axis = 1)\n\n#assign linear regression function to a variable\nlm = LinearRegression()\nlm",
      "execution_count": null,
      "outputs": []
    },
    {
      "metadata": {},
      "cell_type": "markdown",
      "source": "#### Important functions to keep in mind while fitting a linear regression model are: \n    \n- lm.fit() -> fits a linear model \n\n- lm.predict() -> Predict Y using the linear model with estimated coefficients \n\n- lm.score() -> Returns the coefficient of determination (R^2). A measure of how well observed outcomes are replicated by the model, as the proportion of total variation of outcomes explained by the model. "
    },
    {
      "metadata": {
        "trusted": false
      },
      "cell_type": "code",
      "source": "lm.fit(X, bos.PRICE)",
      "execution_count": null,
      "outputs": []
    },
    {
      "metadata": {
        "trusted": false
      },
      "cell_type": "code",
      "source": "print('Estimated intercept coefficient:', lm.intercept_)",
      "execution_count": null,
      "outputs": []
    },
    {
      "metadata": {
        "trusted": false
      },
      "cell_type": "code",
      "source": "print('Number of coefficients:', len(lm.coef_))",
      "execution_count": null,
      "outputs": []
    },
    {
      "metadata": {
        "trusted": false
      },
      "cell_type": "code",
      "source": "pd.DataFrame(list(zip(X.columns, lm.coef_)), columns = ['features', 'estimatedCoefficients'])",
      "execution_count": null,
      "outputs": []
    },
    {
      "metadata": {
        "trusted": false
      },
      "cell_type": "code",
      "source": "plt.scatter(bos.RM, bos.PRICE) \nplt.xlabel(\"Average number of rooms per dwelling (RM)\") \nplt.ylabel(\"Housing Price\") \nplt.title(\"Relationship between RM and Price\") \nplt.show()",
      "execution_count": null,
      "outputs": []
    },
    {
      "metadata": {
        "trusted": false
      },
      "cell_type": "code",
      "source": "lm.predict(X)[0:5]",
      "execution_count": null,
      "outputs": []
    },
    {
      "metadata": {
        "scrolled": true,
        "trusted": false
      },
      "cell_type": "code",
      "source": "plt.scatter(bos.PRICE, lm.predict(X))\nplt.xlabel(\"Price\")\nplt.ylabel(\"Predicted Price\")\nplt.title(\"Price vs Predicted Price\")\nplt.show()",
      "execution_count": null,
      "outputs": []
    },
    {
      "metadata": {
        "scrolled": true,
        "trusted": false
      },
      "cell_type": "code",
      "source": "#calculate mean squared error\nmseFull = np.mean((bos.PRICE - lm.predict(X)) ** 2)\nprint(mseFull)",
      "execution_count": null,
      "outputs": []
    },
    {
      "metadata": {},
      "cell_type": "markdown",
      "source": "## Do not split your train and test data this way"
    },
    {
      "metadata": {
        "trusted": false
      },
      "cell_type": "code",
      "source": "X_train = X[:-50]\nX_test = X[-50:]\nY_train = bos.PRICE[:-50]\nY_test = bos.PRICE[-50:]\nprint(X_train.shape)\nprint(X_test.shape)\nprint(Y_train.shape)\nprint(Y_test.shape)",
      "execution_count": null,
      "outputs": []
    },
    {
      "metadata": {},
      "cell_type": "markdown",
      "source": "# Randomize train and test data"
    },
    {
      "metadata": {
        "trusted": false
      },
      "cell_type": "code",
      "source": "#test_size default = 0.25\nX_train, X_test, Y_train, Y_test = sklearn.model_selection.train_test_split(\n    X, bos.PRICE, test_size=0.33, random_state = 5)\nprint(X_train.shape)\nprint(X_test.shape)\nprint(Y_train.shape)\nprint(Y_test.shape)",
      "execution_count": null,
      "outputs": []
    },
    {
      "metadata": {
        "collapsed": true,
        "trusted": false
      },
      "cell_type": "code",
      "source": "lm=LinearRegression()\nlm.fit(X_train, Y_train)\npred_train = lm.predict(X_train)\npred_test = lm.predict(X_test)",
      "execution_count": null,
      "outputs": []
    },
    {
      "metadata": {
        "trusted": false
      },
      "cell_type": "code",
      "source": "print ('Fit a model X_train, and calculate MSE with Y_train:', np.mean((Y_train - lm.predict(X_train)) ** 2))\nprint ('Fit a model X_train, and calculate MSE with X_test, Y_test:', np.mean((Y_test - lm.predict(X_test)) ** 2))",
      "execution_count": null,
      "outputs": []
    }
  ],
  "metadata": {
    "kernelspec": {
      "name": "python3",
      "display_name": "Python 3",
      "language": "python"
    },
    "language_info": {
      "mimetype": "text/x-python",
      "nbconvert_exporter": "python",
      "name": "python",
      "pygments_lexer": "ipython3",
      "version": "3.5.4",
      "file_extension": ".py",
      "codemirror_mode": {
        "version": 3,
        "name": "ipython"
      }
    }
  },
  "nbformat": 4,
  "nbformat_minor": 2
}